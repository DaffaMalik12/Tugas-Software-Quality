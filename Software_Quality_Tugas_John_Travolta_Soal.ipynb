{
  "nbformat": 4,
  "nbformat_minor": 0,
  "metadata": {
    "colab": {
      "provenance": [],
      "authorship_tag": "ABX9TyMr/v11uJYE1OwunuSJAS/H",
      "include_colab_link": true
    },
    "kernelspec": {
      "name": "python3",
      "display_name": "Python 3"
    },
    "language_info": {
      "name": "python"
    }
  },
  "cells": [
    {
      "cell_type": "markdown",
      "metadata": {
        "id": "view-in-github",
        "colab_type": "text"
      },
      "source": [
        "<a href=\"https://colab.research.google.com/github/DaffaMalik12/Tugas-Software-Quality/blob/main/Software_Quality_Tugas_John_Travolta_Soal.ipynb\" target=\"_parent\"><img src=\"https://colab.research.google.com/assets/colab-badge.svg\" alt=\"Open In Colab\"/></a>"
      ]
    },
    {
      "cell_type": "markdown",
      "source": [
        "## Soal\n",
        "\n",
        "## Seorang karyawan bernama john travolta bergaji mingguan. Gaji normal seminggu (untuk 40 jam), standarnya (“rate”) adalah: rp. 15.000,- /jam. Sedangkan untuk lembur (artinya kerja diatas 40 jam/minggu) dibayar satu setengah kali dari gaji normal per jam nya (“rate”).\n",
        "\n",
        "### 1. Bila Mr. John travolta pada minggu ini bekerja 52 jam, berapa gaji mr. John tersebut. Buat alogaritma + program menghitung gaji dengan nilai-nilai yang lain/variatif: (“bebas”).\n",
        "### 2. Bila pemasukan lebih besar dari pengeluaran maka, akan ditulis (di print), ”bisa menabung”. Bila pemasukan sama dengan pengeluaran maka, akan ditulis (di print), ”tidak bisa menabung”. Bila pemasukan sama kurang dari pengeluaran maka, akan ditulis (di print), ”cari tambahan”.\n",
        "### pengeluaran mr. john selama seminggu ini adalah rp. 600.000. Apakah Mr. john bisa menabung atau tidak ??. bila bisa, berapa besar tabungannya untuk minggu ini. Buat alogaritma + program menghitung tabungan minggu ini dengan nilai-nilai yang lain/variatif (“bebas”)."
      ],
      "metadata": {
        "id": "NKnsC_ii56CO"
      }
    },
    {
      "cell_type": "markdown",
      "source": [
        "## Algoritma\n",
        "\n",
        "### Menghitung Gaji Mingguan Mr. John:\n",
        "\n",
        "1. Tentukan jumlah jam kerja normal (40 jam).\n",
        "2. Tentukan tarif per jam kerja normal (Rp. 15.000/jam).\n",
        "Hitung gaji normal untuk 40 jam kerja.\n",
        "3. Jika Mr. John bekerja lebih dari 40 jam, hitung jam lembur.\n",
        "4. Tentukan tarif per jam lembur (1.5 kali tarif normal).\n",
        "5. Hitung total gaji lembur.\n",
        "6. Tambahkan gaji normal dan gaji lembur untuk mendapatkan total gaji.\n",
        "\n",
        "### Menentukan Apakah Bisa Menabung:\n",
        "\n",
        "1. Tentukan pemasukan (gaji total).\n",
        "2. Tentukan pengeluaran (Rp. 600.000).\n",
        "3. Jika pemasukan > pengeluaran, cetak \"bisa menabung\" dan hitung jumlah tabungan.\n",
        "4. Jika pemasukan = pengeluaran, cetak \"tidak bisa menabung\".\n",
        "5. Jika pemasukan < pengeluaran, cetak \"cari tambahan\".\n",
        "\n",
        "\n"
      ],
      "metadata": {
        "id": "hbZMia9I6g-_"
      }
    },
    {
      "cell_type": "code",
      "execution_count": null,
      "metadata": {
        "colab": {
          "base_uri": "https://localhost:8080/"
        },
        "id": "inrMwXZB5DS5",
        "outputId": "ffb6ba9a-1da5-4045-d688-157692a3172d"
      },
      "outputs": [
        {
          "output_type": "stream",
          "name": "stdout",
          "text": [
            "Bisa menabung. Tabungan minggu ini: Rp. 270000.0\n",
            "Gaji total minggu ini: Rp. 870000.0\n"
          ]
        }
      ],
      "source": [
        "# Input data\n",
        "jam_kerja_normal = 40\n",
        "rate_per_jam_normal = 15000\n",
        "jam_kerja_minggu_ini = 52\n",
        "pengeluaran_minggu_ini = 600000\n",
        "\n",
        "# Menghitung gaji normal\n",
        "gaji_normal = jam_kerja_normal * rate_per_jam_normal\n",
        "\n",
        "# Menghitung lembur\n",
        "if jam_kerja_minggu_ini > jam_kerja_normal:\n",
        "    jam_lembur = jam_kerja_minggu_ini - jam_kerja_normal\n",
        "    rate_per_jam_lembur = rate_per_jam_normal * 1.5\n",
        "    gaji_lembur = jam_lembur * rate_per_jam_lembur\n",
        "else:\n",
        "    gaji_lembur = 0\n",
        "\n",
        "# Total gaji\n",
        "gaji_total = gaji_normal + gaji_lembur\n",
        "\n",
        "# Menentukan apakah bisa menabung\n",
        "if gaji_total > pengeluaran_minggu_ini:\n",
        "    tabungan = gaji_total - pengeluaran_minggu_ini\n",
        "    print(\"Bisa menabung. Tabungan minggu ini: Rp.\", tabungan)\n",
        "elif gaji_total == pengeluaran_minggu_ini:\n",
        "    print(\"Tidak bisa menabung.\")\n",
        "else:\n",
        "    print(\"Cari tambahan.\")\n",
        "\n",
        "# Output gaji total\n",
        "print(\"Gaji total minggu ini: Rp.\", gaji_total)\n"
      ]
    },
    {
      "cell_type": "markdown",
      "source": [
        "## Penjelasan\n",
        "\n",
        "1. Gaji Normal: 40 jam * Rp. 15.000 = Rp. 600.000\n",
        "2. Gaji Lembur: 12 jam * (Rp. 15.000 * 1.5) = Rp. 270.000\n",
        "3. Total Gaji: Rp. 600.000 + Rp. 180.000 = Rp. 870.000\n",
        "4. Pengeluaran: Rp. 600.000\n",
        "5. Tabungan: Rp. 870.000 - Rp. 600.000 = Rp. 270.000 (Bisa menabung)."
      ],
      "metadata": {
        "id": "dBt3DEgE88nP"
      }
    },
    {
      "cell_type": "code",
      "source": [],
      "metadata": {
        "id": "KSPcDIgt6UC8"
      },
      "execution_count": null,
      "outputs": []
    }
  ]
}